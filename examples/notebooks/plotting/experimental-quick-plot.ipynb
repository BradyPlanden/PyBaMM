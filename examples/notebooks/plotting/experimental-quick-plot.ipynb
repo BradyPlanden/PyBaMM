{
 "cells": [
  {
   "cell_type": "markdown",
   "id": "saved-crown",
   "metadata": {},
   "source": [
    "# Customizing QuickPlot"
   ]
  },
  {
   "cell_type": "markdown",
   "id": "adjacent-internship",
   "metadata": {},
   "source": [
    "This notebook shows how to customize PyBaMM's `QuickPlot`, using matplotlib's [style sheets and rcParams](https://matplotlib.org/stable/tutorials/introductory/customizing.html)"
   ]
  },
  {
   "cell_type": "markdown",
   "id": "rocky-function",
   "metadata": {},
   "source": [
    "First we define and solve the models"
   ]
  },
  {
   "cell_type": "code",
   "execution_count": 1,
   "id": "3560a1ab",
   "metadata": {
    "scrolled": true
   },
   "outputs": [
    {
     "name": "stdout",
     "output_type": "stream",
     "text": [
      "Collecting git+https://github.com/MarcusTuchel/PyBaMM.git\n",
      "  Cloning https://github.com/MarcusTuchel/PyBaMM.git to c:\\users\\marcu\\appdata\\local\\temp\\pip-req-build-6hlrgmaq\n",
      "  Resolved https://github.com/MarcusTuchel/PyBaMM.git to commit 8bc186dbd52d3eeb6f10ffd9c55785828c587887\n",
      "Requirement already satisfied: numpy>=1.16 in c:\\users\\marcu\\anaconda3\\lib\\site-packages (from pybamm==23.2) (1.21.5)\n",
      "Requirement already satisfied: scipy>=1.3 in c:\\users\\marcu\\anaconda3\\lib\\site-packages (from pybamm==23.2) (1.7.3)\n",
      "Requirement already satisfied: pandas>=0.24 in c:\\users\\marcu\\anaconda3\\lib\\site-packages (from pybamm==23.2) (1.4.2)\n",
      "Requirement already satisfied: anytree>=2.4.3 in c:\\users\\marcu\\anaconda3\\lib\\site-packages (from pybamm==23.2) (2.8.0)\n",
      "Requirement already satisfied: autograd>=1.2 in c:\\users\\marcu\\anaconda3\\lib\\site-packages (from pybamm==23.2) (1.4)\n",
      "Requirement already satisfied: scikit-fem>=0.2.0 in c:\\users\\marcu\\anaconda3\\lib\\site-packages (from pybamm==23.2) (6.0.0)\n",
      "Requirement already satisfied: casadi>=3.5.0 in c:\\users\\marcu\\anaconda3\\lib\\site-packages (from pybamm==23.2) (3.5.5)\n",
      "Requirement already satisfied: imageio>=2.9.0 in c:\\users\\marcu\\anaconda3\\lib\\site-packages (from pybamm==23.2) (2.9.0)\n",
      "Requirement already satisfied: jupyter in c:\\users\\marcu\\anaconda3\\lib\\site-packages (from pybamm==23.2) (1.0.0)\n",
      "Requirement already satisfied: pybtex>=0.24.0 in c:\\users\\marcu\\anaconda3\\lib\\site-packages (from pybamm==23.2) (0.24.0)\n",
      "Requirement already satisfied: sympy>=1.8 in c:\\users\\marcu\\anaconda3\\lib\\site-packages (from pybamm==23.2) (1.10.1)\n",
      "Requirement already satisfied: bpx in c:\\users\\marcu\\anaconda3\\lib\\site-packages (from pybamm==23.2) (0.2.0)\n",
      "Requirement already satisfied: matplotlib>=2.0 in c:\\users\\marcu\\anaconda3\\lib\\site-packages (from pybamm==23.2) (3.5.1)\n",
      "Requirement already satisfied: six>=1.9.0 in c:\\users\\marcu\\anaconda3\\lib\\site-packages (from anytree>=2.4.3->pybamm==23.2) (1.16.0)\n",
      "Requirement already satisfied: future>=0.15.2 in c:\\users\\marcu\\anaconda3\\lib\\site-packages (from autograd>=1.2->pybamm==23.2) (0.18.2)\n",
      "Requirement already satisfied: pillow in c:\\users\\marcu\\anaconda3\\lib\\site-packages (from imageio>=2.9.0->pybamm==23.2) (9.0.1)\n",
      "Requirement already satisfied: cycler>=0.10 in c:\\users\\marcu\\anaconda3\\lib\\site-packages (from matplotlib>=2.0->pybamm==23.2) (0.11.0)\n",
      "Requirement already satisfied: kiwisolver>=1.0.1 in c:\\users\\marcu\\anaconda3\\lib\\site-packages (from matplotlib>=2.0->pybamm==23.2) (1.3.2)\n",
      "Requirement already satisfied: pyparsing>=2.2.1 in c:\\users\\marcu\\anaconda3\\lib\\site-packages (from matplotlib>=2.0->pybamm==23.2) (3.0.4)\n",
      "Requirement already satisfied: packaging>=20.0 in c:\\users\\marcu\\anaconda3\\lib\\site-packages (from matplotlib>=2.0->pybamm==23.2) (21.3)\n",
      "Requirement already satisfied: python-dateutil>=2.7 in c:\\users\\marcu\\anaconda3\\lib\\site-packages (from matplotlib>=2.0->pybamm==23.2) (2.8.2)\n",
      "Requirement already satisfied: fonttools>=4.22.0 in c:\\users\\marcu\\anaconda3\\lib\\site-packages (from matplotlib>=2.0->pybamm==23.2) (4.25.0)\n",
      "Requirement already satisfied: pytz>=2020.1 in c:\\users\\marcu\\anaconda3\\lib\\site-packages (from pandas>=0.24->pybamm==23.2) (2021.3)\n",
      "Requirement already satisfied: latexcodec>=1.0.4 in c:\\users\\marcu\\anaconda3\\lib\\site-packages (from pybtex>=0.24.0->pybamm==23.2) (2.0.1)\n",
      "Requirement already satisfied: PyYAML>=3.01 in c:\\users\\marcu\\anaconda3\\lib\\site-packages (from pybtex>=0.24.0->pybamm==23.2) (6.0)\n",
      "Requirement already satisfied: mpmath>=0.19 in c:\\users\\marcu\\anaconda3\\lib\\site-packages (from sympy>=1.8->pybamm==23.2) (1.2.1)\n",
      "Requirement already satisfied: pydantic in c:\\users\\marcu\\anaconda3\\lib\\site-packages (from bpx->pybamm==23.2) (1.10.7)\n",
      "Requirement already satisfied: jupyter-console in c:\\users\\marcu\\anaconda3\\lib\\site-packages (from jupyter->pybamm==23.2) (6.4.0)\n",
      "Requirement already satisfied: notebook in c:\\users\\marcu\\anaconda3\\lib\\site-packages (from jupyter->pybamm==23.2) (6.4.8)\n",
      "Requirement already satisfied: qtconsole in c:\\users\\marcu\\anaconda3\\lib\\site-packages (from jupyter->pybamm==23.2) (5.3.0)\n",
      "Requirement already satisfied: ipywidgets in c:\\users\\marcu\\anaconda3\\lib\\site-packages (from jupyter->pybamm==23.2) (7.6.5)\n",
      "Requirement already satisfied: ipykernel in c:\\users\\marcu\\anaconda3\\lib\\site-packages (from jupyter->pybamm==23.2) (6.9.1)\n",
      "Requirement already satisfied: nbconvert in c:\\users\\marcu\\anaconda3\\lib\\site-packages (from jupyter->pybamm==23.2) (6.4.4)\n",
      "Requirement already satisfied: debugpy<2.0,>=1.0.0 in c:\\users\\marcu\\anaconda3\\lib\\site-packages (from ipykernel->jupyter->pybamm==23.2) (1.5.1)\n",
      "Requirement already satisfied: matplotlib-inline<0.2.0,>=0.1.0 in c:\\users\\marcu\\anaconda3\\lib\\site-packages (from ipykernel->jupyter->pybamm==23.2) (0.1.2)\n",
      "Requirement already satisfied: ipython>=7.23.1 in c:\\users\\marcu\\anaconda3\\lib\\site-packages (from ipykernel->jupyter->pybamm==23.2) (8.2.0)\n",
      "Requirement already satisfied: jupyter-client<8.0 in c:\\users\\marcu\\anaconda3\\lib\\site-packages (from ipykernel->jupyter->pybamm==23.2) (6.1.12)\n",
      "Requirement already satisfied: nest-asyncio in c:\\users\\marcu\\anaconda3\\lib\\site-packages (from ipykernel->jupyter->pybamm==23.2) (1.5.5)\n",
      "Requirement already satisfied: tornado<7.0,>=4.2 in c:\\users\\marcu\\anaconda3\\lib\\site-packages (from ipykernel->jupyter->pybamm==23.2) (6.1)\n",
      "Requirement already satisfied: traitlets<6.0,>=5.1.0 in c:\\users\\marcu\\anaconda3\\lib\\site-packages (from ipykernel->jupyter->pybamm==23.2) (5.1.1)\n",
      "Requirement already satisfied: prompt-toolkit!=3.0.0,!=3.0.1,<3.1.0,>=2.0.0 in c:\\users\\marcu\\anaconda3\\lib\\site-packages (from ipython>=7.23.1->ipykernel->jupyter->pybamm==23.2) (3.0.20)\n",
      "Requirement already satisfied: decorator in c:\\users\\marcu\\anaconda3\\lib\\site-packages (from ipython>=7.23.1->ipykernel->jupyter->pybamm==23.2) (5.1.1)\n",
      "Requirement already satisfied: pickleshare in c:\\users\\marcu\\anaconda3\\lib\\site-packages (from ipython>=7.23.1->ipykernel->jupyter->pybamm==23.2) (0.7.5)\n",
      "Requirement already satisfied: setuptools>=18.5 in c:\\users\\marcu\\anaconda3\\lib\\site-packages (from ipython>=7.23.1->ipykernel->jupyter->pybamm==23.2) (61.2.0)\n",
      "Requirement already satisfied: backcall in c:\\users\\marcu\\anaconda3\\lib\\site-packages (from ipython>=7.23.1->ipykernel->jupyter->pybamm==23.2) (0.2.0)\n",
      "Requirement already satisfied: stack-data in c:\\users\\marcu\\anaconda3\\lib\\site-packages (from ipython>=7.23.1->ipykernel->jupyter->pybamm==23.2) (0.2.0)\n",
      "Requirement already satisfied: colorama in c:\\users\\marcu\\anaconda3\\lib\\site-packages (from ipython>=7.23.1->ipykernel->jupyter->pybamm==23.2) (0.4.4)\n",
      "Requirement already satisfied: pygments>=2.4.0 in c:\\users\\marcu\\anaconda3\\lib\\site-packages (from ipython>=7.23.1->ipykernel->jupyter->pybamm==23.2) (2.11.2)\n",
      "Requirement already satisfied: jedi>=0.16 in c:\\users\\marcu\\anaconda3\\lib\\site-packages (from ipython>=7.23.1->ipykernel->jupyter->pybamm==23.2) (0.18.1)\n",
      "Requirement already satisfied: parso<0.9.0,>=0.8.0 in c:\\users\\marcu\\anaconda3\\lib\\site-packages (from jedi>=0.16->ipython>=7.23.1->ipykernel->jupyter->pybamm==23.2) (0.8.3)\n",
      "Requirement already satisfied: pyzmq>=13 in c:\\users\\marcu\\anaconda3\\lib\\site-packages (from jupyter-client<8.0->ipykernel->jupyter->pybamm==23.2) (22.3.0)\n",
      "Requirement already satisfied: jupyter-core>=4.6.0 in c:\\users\\marcu\\anaconda3\\lib\\site-packages (from jupyter-client<8.0->ipykernel->jupyter->pybamm==23.2) (4.9.2)\n",
      "Requirement already satisfied: pywin32>=1.0 in c:\\users\\marcu\\anaconda3\\lib\\site-packages (from jupyter-core>=4.6.0->jupyter-client<8.0->ipykernel->jupyter->pybamm==23.2) (302)\n",
      "Requirement already satisfied: wcwidth in c:\\users\\marcu\\anaconda3\\lib\\site-packages (from prompt-toolkit!=3.0.0,!=3.0.1,<3.1.0,>=2.0.0->ipython>=7.23.1->ipykernel->jupyter->pybamm==23.2) (0.2.5)\n",
      "Requirement already satisfied: ipython-genutils~=0.2.0 in c:\\users\\marcu\\anaconda3\\lib\\site-packages (from ipywidgets->jupyter->pybamm==23.2) (0.2.0)\n",
      "Requirement already satisfied: widgetsnbextension~=3.5.0 in c:\\users\\marcu\\anaconda3\\lib\\site-packages (from ipywidgets->jupyter->pybamm==23.2) (3.5.2)\n",
      "Requirement already satisfied: jupyterlab-widgets>=1.0.0 in c:\\users\\marcu\\anaconda3\\lib\\site-packages (from ipywidgets->jupyter->pybamm==23.2) (1.0.0)\n",
      "Requirement already satisfied: nbformat>=4.2.0 in c:\\users\\marcu\\anaconda3\\lib\\site-packages (from ipywidgets->jupyter->pybamm==23.2) (5.3.0)\n",
      "Requirement already satisfied: fastjsonschema in c:\\users\\marcu\\anaconda3\\lib\\site-packages (from nbformat>=4.2.0->ipywidgets->jupyter->pybamm==23.2) (2.15.1)\n",
      "Requirement already satisfied: jsonschema>=2.6 in c:\\users\\marcu\\anaconda3\\lib\\site-packages (from nbformat>=4.2.0->ipywidgets->jupyter->pybamm==23.2) (4.4.0)\n",
      "Requirement already satisfied: attrs>=17.4.0 in c:\\users\\marcu\\anaconda3\\lib\\site-packages (from jsonschema>=2.6->nbformat>=4.2.0->ipywidgets->jupyter->pybamm==23.2) (21.4.0)\n",
      "Requirement already satisfied: pyrsistent!=0.17.0,!=0.17.1,!=0.17.2,>=0.14.0 in c:\\users\\marcu\\anaconda3\\lib\\site-packages (from jsonschema>=2.6->nbformat>=4.2.0->ipywidgets->jupyter->pybamm==23.2) (0.18.0)\n",
      "Requirement already satisfied: jinja2 in c:\\users\\marcu\\anaconda3\\lib\\site-packages (from notebook->jupyter->pybamm==23.2) (2.11.3)\n",
      "Requirement already satisfied: prometheus-client in c:\\users\\marcu\\anaconda3\\lib\\site-packages (from notebook->jupyter->pybamm==23.2) (0.13.1)\n",
      "Requirement already satisfied: argon2-cffi in c:\\users\\marcu\\anaconda3\\lib\\site-packages (from notebook->jupyter->pybamm==23.2) (21.3.0)\n",
      "Requirement already satisfied: Send2Trash>=1.8.0 in c:\\users\\marcu\\anaconda3\\lib\\site-packages (from notebook->jupyter->pybamm==23.2) (1.8.0)\n",
      "Requirement already satisfied: terminado>=0.8.3 in c:\\users\\marcu\\anaconda3\\lib\\site-packages (from notebook->jupyter->pybamm==23.2) (0.13.1)\n",
      "Requirement already satisfied: pywinpty>=1.1.0 in c:\\users\\marcu\\anaconda3\\lib\\site-packages (from terminado>=0.8.3->notebook->jupyter->pybamm==23.2) (2.0.2)\n",
      "Requirement already satisfied: argon2-cffi-bindings in c:\\users\\marcu\\anaconda3\\lib\\site-packages (from argon2-cffi->notebook->jupyter->pybamm==23.2) (21.2.0)\n",
      "Requirement already satisfied: cffi>=1.0.1 in c:\\users\\marcu\\anaconda3\\lib\\site-packages (from argon2-cffi-bindings->argon2-cffi->notebook->jupyter->pybamm==23.2) (1.15.0)\n",
      "Requirement already satisfied: pycparser in c:\\users\\marcu\\anaconda3\\lib\\site-packages (from cffi>=1.0.1->argon2-cffi-bindings->argon2-cffi->notebook->jupyter->pybamm==23.2) (2.21)\n",
      "Requirement already satisfied: MarkupSafe>=0.23 in c:\\users\\marcu\\anaconda3\\lib\\site-packages (from jinja2->notebook->jupyter->pybamm==23.2) (2.0.1)\n",
      "Requirement already satisfied: entrypoints>=0.2.2 in c:\\users\\marcu\\anaconda3\\lib\\site-packages (from nbconvert->jupyter->pybamm==23.2) (0.4)\n",
      "Requirement already satisfied: pandocfilters>=1.4.1 in c:\\users\\marcu\\anaconda3\\lib\\site-packages (from nbconvert->jupyter->pybamm==23.2) (1.5.0)\n",
      "Requirement already satisfied: mistune<2,>=0.8.1 in c:\\users\\marcu\\anaconda3\\lib\\site-packages (from nbconvert->jupyter->pybamm==23.2) (0.8.4)\n",
      "Requirement already satisfied: testpath in c:\\users\\marcu\\anaconda3\\lib\\site-packages (from nbconvert->jupyter->pybamm==23.2) (0.5.0)\n",
      "Requirement already satisfied: nbclient<0.6.0,>=0.5.0 in c:\\users\\marcu\\anaconda3\\lib\\site-packages (from nbconvert->jupyter->pybamm==23.2) (0.5.13)\n",
      "Requirement already satisfied: bleach in c:\\users\\marcu\\anaconda3\\lib\\site-packages (from nbconvert->jupyter->pybamm==23.2) (4.1.0)\n",
      "Requirement already satisfied: defusedxml in c:\\users\\marcu\\anaconda3\\lib\\site-packages (from nbconvert->jupyter->pybamm==23.2) (0.7.1)\n",
      "Requirement already satisfied: jupyterlab-pygments in c:\\users\\marcu\\anaconda3\\lib\\site-packages (from nbconvert->jupyter->pybamm==23.2) (0.1.2)\n",
      "Requirement already satisfied: beautifulsoup4 in c:\\users\\marcu\\anaconda3\\lib\\site-packages (from nbconvert->jupyter->pybamm==23.2) (4.11.1)\n",
      "Requirement already satisfied: soupsieve>1.2 in c:\\users\\marcu\\anaconda3\\lib\\site-packages (from beautifulsoup4->nbconvert->jupyter->pybamm==23.2) (2.3.1)\n",
      "Requirement already satisfied: webencodings in c:\\users\\marcu\\anaconda3\\lib\\site-packages (from bleach->nbconvert->jupyter->pybamm==23.2) (0.5.1)\n",
      "Requirement already satisfied: typing-extensions>=4.2.0 in c:\\users\\marcu\\anaconda3\\lib\\site-packages (from pydantic->bpx->pybamm==23.2) (4.5.0)\n",
      "Requirement already satisfied: qtpy>=2.0.1 in c:\\users\\marcu\\anaconda3\\lib\\site-packages (from qtconsole->jupyter->pybamm==23.2) (2.0.1)\n",
      "Requirement already satisfied: executing in c:\\users\\marcu\\anaconda3\\lib\\site-packages (from stack-data->ipython>=7.23.1->ipykernel->jupyter->pybamm==23.2) (0.8.3)\n",
      "Requirement already satisfied: pure-eval in c:\\users\\marcu\\anaconda3\\lib\\site-packages (from stack-data->ipython>=7.23.1->ipykernel->jupyter->pybamm==23.2) (0.2.2)\n",
      "Requirement already satisfied: asttokens in c:\\users\\marcu\\anaconda3\\lib\\site-packages (from stack-data->ipython>=7.23.1->ipykernel->jupyter->pybamm==23.2) (2.0.5)\n",
      "Note: you may need to restart the kernel to use updated packages.\n"
     ]
    },
    {
     "name": "stderr",
     "output_type": "stream",
     "text": [
      "  Running command git clone -q https://github.com/MarcusTuchel/PyBaMM.git 'C:\\Users\\marcu\\AppData\\Local\\Temp\\pip-req-build-6hlrgmaq'\n"
     ]
    }
   ],
   "source": [
    "pip install git+https://github.com/MarcusTuchel/PyBaMM.git"
   ]
  },
  {
   "cell_type": "code",
   "execution_count": null,
   "id": "100e2757",
   "metadata": {},
   "outputs": [],
   "source": [
    "from ."
   ]
  },
  {
   "cell_type": "code",
   "execution_count": 2,
   "id": "spare-craft",
   "metadata": {},
   "outputs": [
    {
     "ename": "SyntaxError",
     "evalue": "invalid syntax (quick_plot.py, line 499)",
     "output_type": "error",
     "traceback": [
      "Traceback \u001b[1;36m(most recent call last)\u001b[0m:\n",
      "  File \u001b[0;32m~\\anaconda3\\lib\\site-packages\\IPython\\core\\interactiveshell.py:3369\u001b[0m in \u001b[0;35mrun_code\u001b[0m\n    exec(code_obj, self.user_global_ns, self.user_ns)\n",
      "  Input \u001b[0;32mIn [2]\u001b[0m in \u001b[0;35m<cell line: 2>\u001b[0m\n    import pybamm\n",
      "\u001b[1;36m  File \u001b[1;32m~\\anaconda3\\lib\\site-packages\\pybamm\\__init__.py:229\u001b[1;36m in \u001b[1;35m<module>\u001b[1;36m\u001b[0m\n\u001b[1;33m    from .plotting.quick_plot import QuickPlot, close_plots\u001b[0m\n",
      "\u001b[1;36m  File \u001b[1;32m~\\anaconda3\\lib\\site-packages\\pybamm\\plotting\\quick_plot.py:499\u001b[1;36m\u001b[0m\n\u001b[1;33m    if experiment=None:\u001b[0m\n\u001b[1;37m                 ^\u001b[0m\n\u001b[1;31mSyntaxError\u001b[0m\u001b[1;31m:\u001b[0m invalid syntax\n"
     ]
    }
   ],
   "source": [
    "# %pip install pybamm -q    # install PyBaMM if it is not installed\n",
    "import pybamm\n",
    "\n",
    "models = [pybamm.lithium_ion.SPM(), pybamm.lithium_ion.SPMe(), pybamm.lithium_ion.DFN()]\n",
    "sims = []\n",
    "for model in models:\n",
    "    sim = pybamm.Simulation(model)\n",
    "    sim.solve([0, 3600])\n",
    "    sims.append(sim)"
   ]
  },
  {
   "cell_type": "markdown",
   "id": "nutritional-scratch",
   "metadata": {},
   "source": [
    "Call the default plots"
   ]
  },
  {
   "cell_type": "code",
   "execution_count": null,
   "id": "healthy-fluid",
   "metadata": {},
   "outputs": [],
   "source": [
    "pybamm.dynamic_plot(sims);"
   ]
  },
  {
   "cell_type": "markdown",
   "id": "basic-mentor",
   "metadata": {},
   "source": [
    "## Using style sheets"
   ]
  },
  {
   "cell_type": "markdown",
   "id": "mysterious-pantyhose",
   "metadata": {},
   "source": [
    "The easiest way to customize style is to use one of matplotlib's available style sheets"
   ]
  },
  {
   "cell_type": "code",
   "execution_count": null,
   "id": "sunset-planet",
   "metadata": {},
   "outputs": [],
   "source": [
    "import matplotlib.pyplot as plt\n",
    "plt.style.available"
   ]
  },
  {
   "cell_type": "markdown",
   "id": "headed-royalty",
   "metadata": {},
   "source": [
    "For example we can use the ggplot style from R. In this case, the title fonts are quite large, so we reduce the number of words in a title before a line break"
   ]
  },
  {
   "cell_type": "code",
   "execution_count": null,
   "id": "behavioral-tyler",
   "metadata": {},
   "outputs": [],
   "source": [
    "plt.style.use(\"ggplot\")\n",
    "pybamm.settings.max_words_in_line = 3\n",
    "pybamm.dynamic_plot(sims);"
   ]
  },
  {
   "cell_type": "markdown",
   "id": "annoying-limitation",
   "metadata": {},
   "source": [
    "Another good set of style sheets for scientific plots is available by pip installing the [SciencePlots](https://github.com/garrettj403/SciencePlots) package"
   ]
  },
  {
   "cell_type": "markdown",
   "id": "valuable-baptist",
   "metadata": {},
   "source": [
    "## Further customization using rcParams"
   ]
  },
  {
   "cell_type": "markdown",
   "id": "atlantic-building",
   "metadata": {},
   "source": [
    "Sometimes we want further customization of a style, without needing to edit the style sheets. For example, we can update the font sizes and plot again.\n",
    "\n",
    "To change the line colors, we use `cycler`"
   ]
  },
  {
   "cell_type": "code",
   "execution_count": null,
   "id": "excited-circuit",
   "metadata": {},
   "outputs": [],
   "source": [
    "import matplotlib as mpl\n",
    "from cycler import cycler\n",
    "\n",
    "mpl.rcParams[\"axes.labelsize\"] = 12\n",
    "mpl.rcParams[\"axes.titlesize\"] = 12\n",
    "mpl.rcParams[\"xtick.labelsize\"] =  12\n",
    "mpl.rcParams[\"ytick.labelsize\"] =  12\n",
    "mpl.rcParams[\"legend.fontsize\"] =  12\n",
    "mpl.rcParams[\"axes.prop_cycle\"] = cycler('color', [\"k\", \"g\", \"c\"])\n",
    "pybamm.dynamic_plot(sims);"
   ]
  },
  {
   "cell_type": "markdown",
   "id": "recreational-complexity",
   "metadata": {},
   "source": [
    "## Very fine customization"
   ]
  },
  {
   "cell_type": "markdown",
   "id": "german-possibility",
   "metadata": {},
   "source": [
    "Some customization of the `QuickPlot` object is possible by passing arguments - see the [docs](https://pybamm.readthedocs.io/en/latest/source/api/plotting/quick_plot.html) for details\n",
    "\n",
    "We can also further control the plot by calling `plot.fig` after the figure has been created, and editing the matplotlib objects. For example, here we move the titles to the ylabel, and move the legend."
   ]
  },
  {
   "cell_type": "code",
   "execution_count": null,
   "id": "specific-dictionary",
   "metadata": {
    "scrolled": true
   },
   "outputs": [],
   "source": [
    "pybamm.settings.max_words_in_line = 4\n",
    "\n",
    "plot = pybamm.QuickPlot(sims, figsize=(14,7))\n",
    "plot.plot(0.5); # time in hours\n",
    "\n",
    "# Move title to ylabel\n",
    "for ax in plot.fig.axes:\n",
    "    title = ax.get_title()\n",
    "    ax.set_title(\"\")\n",
    "    ax.set_ylabel(title)\n",
    "    \n",
    "# Remove old legend and add a new one in the bottom\n",
    "leg = plot.fig.get_children()[-1]\n",
    "leg.set_visible(False)\n",
    "plot.fig.legend(plot.labels, loc=\"lower center\", ncol=len(plot.labels), fontsize=11)\n",
    "\n",
    "# Adjust layout\n",
    "plot.gridspec.tight_layout(plot.fig, rect=[0, 0.04, 1, 1])"
   ]
  },
  {
   "cell_type": "code",
   "execution_count": null,
   "id": "ebd0c708",
   "metadata": {},
   "outputs": [],
   "source": [
    "pybamm.settings.max_words_in_line = 4\n",
    "\n",
    "experiment_data = {}\n",
    "\n",
    "# plot = pybamm.QuickPlot(sims, experiment_data, figsize=(14,7))\n",
    "plot = qs.QuickPlot(sims, experiment_data, figsize=(14,7))\n",
    "plot.plot(0.5); # time in hours\n",
    "\n",
    "# Move title to ylabel\n",
    "for ax in plot.fig.axes:\n",
    "    title = ax.get_title()\n",
    "    ax.set_title(\"\")\n",
    "    ax.set_ylabel(title)\n",
    "    \n",
    "# Remove old legend and add a new one in the bottom\n",
    "leg = plot.fig.get_children()[-1]\n",
    "leg.set_visible(False)\n",
    "plot.fig.legend(plot.labels, loc=\"lower center\", ncol=len(plot.labels), fontsize=11)\n",
    "\n",
    "# Adjust layout\n",
    "plot.gridspec.tight_layout(plot.fig, rect=[0, 0.04, 1, 1])"
   ]
  },
  {
   "cell_type": "markdown",
   "id": "approved-gibraltar",
   "metadata": {},
   "source": [
    "The figure can then be saved using `plot.fig.savefig`"
   ]
  },
  {
   "cell_type": "markdown",
   "id": "needed-structure",
   "metadata": {},
   "source": [
    "## References\n",
    "\n",
    "The relevant papers for this notebook are:"
   ]
  },
  {
   "cell_type": "code",
   "execution_count": null,
   "id": "refined-space",
   "metadata": {},
   "outputs": [],
   "source": [
    "pybamm.print_citations()"
   ]
  },
  {
   "cell_type": "code",
   "execution_count": null,
   "id": "04d6b8ad",
   "metadata": {},
   "outputs": [],
   "source": []
  }
 ],
 "metadata": {
  "kernelspec": {
   "display_name": "Python 3 (ipykernel)",
   "language": "python",
   "name": "python3"
  },
  "language_info": {
   "codemirror_mode": {
    "name": "ipython",
    "version": 3
   },
   "file_extension": ".py",
   "mimetype": "text/x-python",
   "name": "python",
   "nbconvert_exporter": "python",
   "pygments_lexer": "ipython3",
   "version": "3.9.12"
  },
  "toc": {
   "base_numbering": 1,
   "nav_menu": {},
   "number_sections": true,
   "sideBar": true,
   "skip_h1_title": false,
   "title_cell": "Table of Contents",
   "title_sidebar": "Contents",
   "toc_cell": false,
   "toc_position": {},
   "toc_section_display": true,
   "toc_window_display": true
  },
  "vscode": {
   "interpreter": {
    "hash": "1a781583db2df3c2e87436f6d22cce842c2e50a5670da93a3bd820b97dc43011"
   }
  }
 },
 "nbformat": 4,
 "nbformat_minor": 5
}
